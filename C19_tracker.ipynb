{
 "cells": [
  {
   "cell_type": "code",
   "execution_count": 2,
   "metadata": {
    "tags": []
   },
   "outputs": [
    {
     "output_type": "stream",
     "name": "stdout",
     "text": "Index(['Unnamed: 0', 'date', 'state', 'positive', 'negative', 'pending',\n       'hospitalizedCurrently', 'hospitalizedCumulative', 'inIcuCurrently',\n       'inIcuCumulative', 'onVentilatorCurrently', 'onVentilatorCumulative',\n       'recovered', 'dataQualityGrade', 'lastUpdateEt', 'dateModified',\n       'checkTimeEt', 'death', 'hospitalized', 'dateChecked',\n       'totalTestsViral', 'positiveTestsViral', 'negativeTestsViral',\n       'positiveCasesViral', 'deathConfirmed', 'deathProbable', 'fips',\n       'positiveIncrease', 'negativeIncrease', 'total', 'totalTestResults',\n       'totalTestResultsIncrease', 'posNeg', 'deathIncrease',\n       'hospitalizedIncrease', 'hash', 'commercialScore',\n       'negativeRegularScore', 'negativeScore', 'positiveScore', 'score',\n       'grade', 'DATE_F'],\n      dtype='object')\n"
    }
   ],
   "source": [
    "import pandas as pd\n",
    "import plotly.graph_objects as go\n",
    "import plotly.express as px\n",
    "#from datetime import datetime\n",
    "from plotly.subplots import make_subplots\n",
    "\n",
    "# Getting the data and indexing the date\n",
    "df = pd.read_excel('covid_tracker_data.xlsx')\n",
    "\n",
    "# Here are the values we are specifying to sum\n",
    "#to_sum = ['positive', 'negative', 'death', 'positiveIncrease', 'deathIncrease']\n",
    "print(df.columns)"
   ]
  },
  {
   "cell_type": "code",
   "execution_count": null,
   "metadata": {},
   "outputs": [],
   "source": []
  }
 ],
 "metadata": {
  "language_info": {
   "codemirror_mode": {
    "name": "ipython",
    "version": 3
   },
   "file_extension": ".py",
   "mimetype": "text/x-python",
   "name": "python",
   "nbconvert_exporter": "python",
   "pygments_lexer": "ipython3",
   "version": 3
  },
  "orig_nbformat": 2,
  "kernelspec": {
   "name": "python_defaultSpec_1594914210092",
   "display_name": "Python 3.7.6 64-bit ('base': conda)"
  }
 },
 "nbformat": 4,
 "nbformat_minor": 2
}